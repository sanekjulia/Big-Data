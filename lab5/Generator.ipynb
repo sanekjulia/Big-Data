{
 "cells": [
  {
   "cell_type": "code",
   "execution_count": 0,
   "metadata": {
    "application/vnd.databricks.v1+cell": {
     "cellMetadata": {
      "byteLimit": 2048000,
      "rowLimit": 10000
     },
     "inputWidgets": {},
     "nuid": "fb97e2b3-b608-43a1-93f6-8cd9f1ea239c",
     "showTitle": false,
     "tableResultSettingsMap": {},
     "title": ""
    }
   },
   "outputs": [],
   "source": [
    "from pyspark.sql.functions import first, rand, count\n",
    "dates = spark.sql(\"SELECT explode(sequence(DATE'2024-01-01', DATE'2024-03-24', INTERVAL 1 DAY)) as  calendar_date\")\n",
    "c_id = spark.sql(\"SELECT explode(sequence(1,200, 1)) as  client_id\")\n",
    "types = spark.sql(\"\"\"SELECT concat(\"col_\", colName) as col_name from (SELECT explode(sequence(1,20, 1)) as  colName)\"\"\")\n",
    " \n",
    "dates = dates.repartition(99)\n",
    "c_id = c_id.repartition(11)\n",
    "types = types.repartition(1)\n",
    " \n",
    "df_cartesian = c_id.crossJoin(dates.select(\"calendar_date\")).crossJoin(types.select(\"col_name\")).select(\"client_id\",\"calendar_date\",\"col_name\")\n",
    "df_cartesian2 = df_cartesian.groupBy(\"calendar_date\").agg(count(\"client_id\"))\n",
    " \n",
    "# display(df_cartesian2.limit(1000))\n",
    " \n",
    "df_cartesian = df_cartesian.withColumn(\"val\", (rand()*10).cast(\"int\"))\n",
    "\n",
    "df_grp = df_cartesian.groupBy(\"client_id\",\"calendar_date\").pivot(\"col_name\").agg((first(\"val\").alias(\"val\")))\n",
    "\n",
    "display(df_grp)\n"
   ]
  },
  {
   "cell_type": "code",
   "execution_count": 0,
   "metadata": {
    "application/vnd.databricks.v1+cell": {
     "cellMetadata": {
      "byteLimit": 2048000,
      "rowLimit": 10000
     },
     "inputWidgets": {},
     "nuid": "a9d79072-cd57-4b67-aedc-d22a9a06c9d8",
     "showTitle": false,
     "tableResultSettingsMap": {},
     "title": ""
    }
   },
   "outputs": [
    {
     "output_type": "stream",
     "name": "stdout",
     "output_type": "stream",
     "text": [
      "+---------+-------------+-----+------+------+------+------+------+------+------+------+------+------+-----+------+-----+-----+-----+-----+-----+-----+-----+--------+-----+------+------+------+------+------+------+------+------+------+------+-----+------+-----+-----+-----+-----+-----+-----+-----+--------+\n|client_id|calendar_date|col_1|col_10|col_11|col_12|col_13|col_14|col_15|col_16|col_17|col_18|col_19|col_2|col_20|col_3|col_4|col_5|col_6|col_7|col_8|col_9|table_id|col_1|col_10|col_11|col_12|col_13|col_14|col_15|col_16|col_17|col_18|col_19|col_2|col_20|col_3|col_4|col_5|col_6|col_7|col_8|col_9|table_id|\n+---------+-------------+-----+------+------+------+------+------+------+------+------+------+------+-----+------+-----+-----+-----+-----+-----+-----+-----+--------+-----+------+------+------+------+------+------+------+------+------+------+-----+------+-----+-----+-----+-----+-----+-----+-----+--------+\n|        1|   2024-01-01|    3|     3|     6|     5|     2|     3|     3|     0|     9|     0|     0|    7|     8|    2|    3|    0|    8|    4|    9|    9|  177310|    3|     3|     6|     5|     2|     3|     3|     0|     9|     0|     0|    7|     8|    2|    3|    0|    8|    4|    9|    9|  940417|\n|        1|   2024-01-02|    0|     3|     0|     3|     2|     5|     9|     1|     0|     9|     8|    7|     7|    9|    7|    6|    1|    5|    6|    8|  846248|    0|     3|     0|     3|     2|     5|     9|     1|     0|     9|     8|    7|     7|    9|    7|    6|    1|    5|    6|    8|  466350|\n|        1|   2024-01-03|    7|     7|     7|     3|     3|     2|     1|     6|     0|     7|     4|    3|     7|    6|    4|    0|    9|    2|    1|    2|   27013|    7|     7|     7|     3|     3|     2|     1|     6|     0|     7|     4|    3|     7|    6|    4|    0|    9|    2|    1|    2|  105173|\n|        1|   2024-01-04|    6|     0|     4|     1|     1|     4|     8|     9|     7|     6|     4|    8|     0|    2|    7|    7|    8|    2|    7|    0|  617789|    6|     0|     4|     1|     1|     4|     8|     9|     7|     6|     4|    8|     0|    2|    7|    7|    8|    2|    7|    0|  315352|\n|        1|   2024-01-05|    5|     4|     1|     8|     4|     5|     5|     4|     1|     3|     6|    5|     5|    0|    1|    8|    6|    8|    1|    8|  578738|    5|     4|     1|     8|     4|     5|     5|     4|     1|     3|     6|    5|     5|    0|    1|    8|    6|    8|    1|    8|  498752|\n|        1|   2024-01-06|    1|     7|     9|     7|     2|     1|     6|     5|     4|     1|     6|    9|     4|    4|    9|    0|    9|    2|    9|    3|  768727|    1|     7|     9|     7|     2|     1|     6|     5|     4|     1|     6|    9|     4|    4|    9|    0|    9|    2|    9|    3|  832551|\n|        1|   2024-01-07|    0|     2|     3|     0|     7|     6|     6|     3|     0|     6|     8|    7|     2|    8|    0|    8|    3|    3|    9|    1|  235308|    0|     2|     3|     0|     7|     6|     6|     3|     0|     6|     8|    7|     2|    8|    0|    8|    3|    3|    9|    1|  630591|\n|        1|   2024-01-08|    0|     6|     1|     4|     8|     7|     6|     6|     7|     4|     6|    8|     5|    4|    7|    8|    4|    7|    1|    8|  630071|    0|     6|     1|     4|     8|     7|     6|     6|     7|     4|     6|    8|     5|    4|    7|    8|    4|    7|    1|    8|  767279|\n|        1|   2024-01-09|    9|     2|     9|     2|     8|     5|     2|     4|     9|     8|     1|    5|     5|    3|    5|    8|    9|    2|    7|    1|   88414|    9|     2|     9|     2|     8|     5|     2|     4|     9|     8|     1|    5|     5|    3|    5|    8|    9|    2|    7|    1|   63995|\n|        1|   2024-01-10|    0|     1|     2|     2|     3|     2|     2|     1|     3|     1|     0|    9|     3|    9|    7|    8|    1|    1|    9|    9|   64830|    0|     1|     2|     2|     3|     2|     2|     1|     3|     1|     0|    9|     3|    9|    7|    8|    1|    1|    9|    9|  305058|\n+---------+-------------+-----+------+------+------+------+------+------+------+------+------+------+-----+------+-----+-----+-----+-----+-----+-----+-----+--------+-----+------+------+------+------+------+------+------+------+------+------+-----+------+-----+-----+-----+-----+-----+-----+-----+--------+\nonly showing top 10 rows\n\n+---------+-------------+-----+------+------+------+------+------+------+------+------+------+------+-----+------+-----+-----+-----+-----+-----+-----+-----+--------+-----+------+------+------+------+------+------+------+------+------+------+-----+------+-----+-----+-----+-----+-----+-----+-----+--------+\n|client_id|calendar_date|col_1|col_10|col_11|col_12|col_13|col_14|col_15|col_16|col_17|col_18|col_19|col_2|col_20|col_3|col_4|col_5|col_6|col_7|col_8|col_9|table_id|col_1|col_10|col_11|col_12|col_13|col_14|col_15|col_16|col_17|col_18|col_19|col_2|col_20|col_3|col_4|col_5|col_6|col_7|col_8|col_9|table_id|\n+---------+-------------+-----+------+------+------+------+------+------+------+------+------+------+-----+------+-----+-----+-----+-----+-----+-----+-----+--------+-----+------+------+------+------+------+------+------+------+------+------+-----+------+-----+-----+-----+-----+-----+-----+-----+--------+\n|      170|   2024-01-17|    9|     2|     2|     6|     5|     3|     6|     1|     0|     6|     8|    4|     6|    8|    6|    5|    2|    5|    2|    5|  614538|    9|     2|     2|     6|     5|     3|     6|     1|     0|     6|     8|    4|     6|    8|    6|    5|    2|    5|    2|    5|  197214|\n|      170|   2024-01-29|    6|     6|     9|     8|     6|     5|     5|     2|     1|     3|     2|    1|     4|    8|    2|    4|    8|    3|    4|    6|  308359|    6|     6|     9|     8|     6|     5|     5|     2|     1|     3|     2|    1|     4|    8|    2|    4|    8|    3|    4|    6|  528928|\n|      170|   2024-01-31|    2|     1|     3|     1|     3|     2|     4|     2|     8|     2|     9|    2|     3|    6|    0|    8|    0|    7|    8|    2|   55474|    2|     1|     3|     1|     3|     2|     4|     2|     8|     2|     9|    2|     3|    6|    0|    8|    0|    7|    8|    2|  243577|\n|      170|   2024-02-10|    5|     2|     1|     1|     2|     9|     2|     1|     3|     4|     2|    2|     5|    1|    8|    3|    0|    4|    0|    1|  178876|    5|     2|     1|     1|     2|     9|     2|     1|     3|     4|     2|    2|     5|    1|    8|    3|    0|    4|    0|    1|   94709|\n|      170|   2024-02-24|    5|     4|     6|     2|     0|     8|     5|     0|     1|     2|     2|    6|     0|    8|    4|    7|    5|    6|    2|    1|  197915|    5|     4|     6|     2|     0|     8|     5|     0|     1|     2|     2|    6|     0|    8|    4|    7|    5|    6|    2|    1|  745917|\n|      170|   2024-02-26|    2|     4|     4|     0|     8|     5|     5|     7|     5|     8|     7|    9|     5|    4|    8|    1|    5|    8|    5|    3|  985794|    2|     4|     4|     0|     8|     5|     5|     7|     5|     8|     7|    9|     5|    4|    8|    1|    5|    8|    5|    3|  260820|\n|      170|   2024-02-29|    2|     2|     3|     0|     4|     1|     1|     6|     1|     8|     7|    5|     5|    7|    2|    8|    4|    5|    2|    2|   90090|    2|     2|     3|     0|     4|     1|     1|     6|     1|     8|     7|    5|     5|    7|    2|    8|    4|    5|    2|    2|  951518|\n|      170|   2024-03-07|    2|     5|     6|     8|     1|     9|     9|     3|     7|     5|     9|    8|     5|    9|    5|    0|    2|    9|    1|    9|  457049|    2|     5|     6|     8|     1|     9|     9|     3|     7|     5|     9|    8|     5|    9|    5|    0|    2|    9|    1|    9|  992378|\n|      170|   2024-03-19|    3|     1|     4|     8|     7|     8|     4|     4|     2|     6|     1|    8|     5|    7|    7|    5|    7|    0|    7|    1|  533614|    3|     1|     4|     8|     7|     8|     4|     4|     2|     6|     1|    8|     5|    7|    7|    5|    7|    0|    7|    1|  928345|\n|      170|   2024-03-21|    4|     2|     6|     2|     9|     0|     6|     6|     7|     1|     4|    5|     8|    7|    5|    6|    0|    4|    7|    3|  971702|    4|     2|     6|     2|     9|     0|     6|     6|     7|     1|     4|    5|     8|    7|    5|    6|    0|    4|    7|    3|  375212|\n+---------+-------------+-----+------+------+------+------+------+------+------+------+------+------+-----+------+-----+-----+-----+-----+-----+-----+-----+--------+-----+------+------+------+------+------+------+------+------+------+------+-----+------+-----+-----+-----+-----+-----+-----+-----+--------+\nonly showing top 10 rows\n\n"
     ]
    }
   ],
   "source": [
    "from pyspark.sql.functions import rand, first, count\n",
    "\n",
    "dates = spark.sql(\"SELECT explode(sequence(DATE'2024-01-01', DATE'2024-03-24', INTERVAL 1 DAY)) as  calendar_date\")\n",
    "c_id = spark.sql(\"SELECT explode(sequence(1,200, 1)) as  client_id\")\n",
    "types = spark.sql(\"\"\"SELECT concat(\"col_\", colName) as col_name from (SELECT explode(sequence(1,20, 1)) as  colName)\"\"\")\n",
    "\n",
    "dates = dates.repartition(99)\n",
    "c_id = c_id.repartition(11)\n",
    "types = types.repartition(1)\n",
    "\n",
    "df_cartesian = c_id.crossJoin(dates.select(\"calendar_date\")).crossJoin(types.select(\"col_name\"))\n",
    "df_cartesian = df_cartesian.withColumn(\"val\", (rand()*10).cast(\"int\"))\n",
    "\n",
    "df_grp1 = df_cartesian.groupBy(\"client_id\",\"calendar_date\").pivot(\"col_name\").agg(first(\"val\"))\n",
    "df_grp1 = df_grp1.withColumn(\"table_id\", (rand()*1000000).cast(\"int\"))\n",
    "\n",
    "df_table1 = df_grp1.limit(1000000)\n",
    "\n",
    "df_grp2 = df_cartesian.groupBy(\"client_id\",\"calendar_date\").pivot(\"col_name\").agg(first(\"val\"))\n",
    "df_grp2 = df_grp2.withColumn(\"table_id\", (rand()*1000000).cast(\"int\"))\n",
    "\n",
    "df_table2 = df_grp2.limit(1000000)\n",
    "\n",
    "# INNER JOIN\n",
    "df_inner = df_table1.join(df_table2, [\"client_id\", \"calendar_date\"], \"inner\")\n",
    "\n",
    "# LEFT JOIN\n",
    "df_left = df_table1.join(df_table2, [\"client_id\", \"calendar_date\"], \"left\")\n",
    "\n",
    "# usuwanie duplikatów - dwie funkcje\n",
    "df_inner_dedup = df_inner.distinct()\n",
    "df_left_dedup = df_left.dropDuplicates()\n",
    "\n",
    "df_inner_dedup.show(10)\n",
    "df_left_dedup.show(10)"
   ]
  }
 ],
 "metadata": {
  "application/vnd.databricks.v1+notebook": {
   "computePreferences": null,
   "dashboards": [],
   "environmentMetadata": null,
   "inputWidgetPreferences": null,
   "language": "python",
   "notebookMetadata": {
    "pythonIndentUnit": 4
   },
   "notebookName": "Generator",
   "widgets": {}
  }
 },
 "nbformat": 4,
 "nbformat_minor": 0
}