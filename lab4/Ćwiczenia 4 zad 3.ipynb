{
 "cells": [
  {
   "cell_type": "code",
   "execution_count": 0,
   "metadata": {
    "application/vnd.databricks.v1+cell": {
     "cellMetadata": {
      "byteLimit": 2048000,
      "rowLimit": 10000
     },
     "inputWidgets": {},
     "nuid": "b5f52fcb-2a28-49d7-9387-69a9846eac42",
     "showTitle": false,
     "tableResultSettingsMap": {},
     "title": ""
    }
   },
   "outputs": [],
   "source": [
    "%run \"./3. Pobierz Dane\""
   ]
  },
  {
   "cell_type": "code",
   "execution_count": 0,
   "metadata": {
    "application/vnd.databricks.v1+cell": {
     "cellMetadata": {
      "byteLimit": 2048000,
      "rowLimit": 10000
     },
     "inputWidgets": {},
     "nuid": "76e15474-3172-4dd7-b6a6-5cbab02b4893",
     "showTitle": false,
     "tableResultSettingsMap": {},
     "title": ""
    }
   },
   "outputs": [
    {
     "output_type": "display_data",
     "data": {
      "text/html": [
       "<style scoped>\n",
       "  .table-result-container {\n",
       "    max-height: 300px;\n",
       "    overflow: auto;\n",
       "  }\n",
       "  table, th, td {\n",
       "    border: 1px solid black;\n",
       "    border-collapse: collapse;\n",
       "  }\n",
       "  th, td {\n",
       "    padding: 5px;\n",
       "  }\n",
       "  th {\n",
       "    text-align: left;\n",
       "  }\n",
       "</style><div class='table-result-container'><table class='table-result'><thead style='background-color: white'><tr><th>station_id</th><th>name</th><th>lat</th><th>long</th><th>dockcount</th><th>landmark</th><th>installation</th></tr></thead><tbody><tr><td>2</td><td>San Jose Diridon Caltrain Station</td><td>37.329732</td><td>-121.901782</td><td>27</td><td>San Jose</td><td>2013-08-06</td></tr><tr><td>3</td><td>San Jose Civic Center</td><td>37.330698</td><td>-121.888979</td><td>15</td><td>San Jose</td><td>2013-08-05</td></tr><tr><td>4</td><td>Santa Clara at Almaden</td><td>37.333988</td><td>-121.894902</td><td>11</td><td>San Jose</td><td>2013-08-06</td></tr><tr><td>5</td><td>Adobe on Almaden</td><td>37.331415</td><td>-121.8932</td><td>19</td><td>San Jose</td><td>2013-08-05</td></tr><tr><td>6</td><td>San Pedro Square</td><td>37.336721</td><td>-121.894074</td><td>15</td><td>San Jose</td><td>2013-08-07</td></tr><tr><td>7</td><td>Paseo de San Antonio</td><td>37.333798</td><td>-121.886943</td><td>15</td><td>San Jose</td><td>2013-08-07</td></tr><tr><td>8</td><td>San Salvador at 1st</td><td>37.330165</td><td>-121.885831</td><td>15</td><td>San Jose</td><td>2013-08-05</td></tr><tr><td>9</td><td>Japantown</td><td>37.348742</td><td>-121.894715</td><td>15</td><td>San Jose</td><td>2013-08-05</td></tr><tr><td>10</td><td>San Jose City Hall</td><td>37.337391</td><td>-121.886995</td><td>15</td><td>San Jose</td><td>2013-08-06</td></tr><tr><td>11</td><td>MLK Library</td><td>37.335885</td><td>-121.88566</td><td>19</td><td>San Jose</td><td>2013-08-06</td></tr><tr><td>12</td><td>SJSU 4th at San Carlos</td><td>37.332808</td><td>-121.883891</td><td>19</td><td>San Jose</td><td>2013-08-07</td></tr><tr><td>13</td><td>St James Park</td><td>37.339301</td><td>-121.889937</td><td>15</td><td>San Jose</td><td>2013-08-06</td></tr><tr><td>14</td><td>Arena Green / SAP Center</td><td>37.332692</td><td>-121.900084</td><td>19</td><td>San Jose</td><td>2013-08-05</td></tr><tr><td>16</td><td>SJSU - San Salvador at 9th</td><td>37.333955</td><td>-121.877349</td><td>15</td><td>San Jose</td><td>2013-08-07</td></tr><tr><td>21</td><td>Franklin at Maple</td><td>37.481758</td><td>-122.226904</td><td>15</td><td>Redwood City</td><td>2013-08-12</td></tr><tr><td>22</td><td>Redwood City Caltrain Station</td><td>37.486078</td><td>-122.232089</td><td>25</td><td>Redwood City</td><td>2013-08-15</td></tr><tr><td>23</td><td>San Mateo County Center</td><td>37.487616</td><td>-122.229951</td><td>15</td><td>Redwood City</td><td>2013-08-15</td></tr><tr><td>24</td><td>Redwood City Public Library</td><td>37.484219</td><td>-122.227424</td><td>15</td><td>Redwood City</td><td>2013-08-12</td></tr><tr><td>25</td><td>Stanford in Redwood City</td><td>37.48537</td><td>-122.203288</td><td>15</td><td>Redwood City</td><td>2013-08-12</td></tr><tr><td>26</td><td>Redwood City Medical Center</td><td>37.487682</td><td>-122.223492</td><td>15</td><td>Redwood City</td><td>2013-08-12</td></tr><tr><td>27</td><td>Mountain View City Hall</td><td>37.389218</td><td>-122.081896</td><td>15</td><td>Mountain View</td><td>2013-08-16</td></tr><tr><td>28</td><td>Mountain View Caltrain Station</td><td>37.394358</td><td>-122.076713</td><td>23</td><td>Mountain View</td><td>2013-08-15</td></tr><tr><td>29</td><td>San Antonio Caltrain Station</td><td>37.40694</td><td>-122.106758</td><td>23</td><td>Mountain View</td><td>2013-08-15</td></tr><tr><td>30</td><td>Evelyn Park and Ride</td><td>37.390277</td><td>-122.066553</td><td>15</td><td>Mountain View</td><td>2013-08-16</td></tr><tr><td>31</td><td>San Antonio Shopping Center</td><td>37.400443</td><td>-122.108338</td><td>15</td><td>Mountain View</td><td>2013-12-31</td></tr><tr><td>32</td><td>Castro Street and El Camino Real</td><td>37.385956</td><td>-122.083678</td><td>11</td><td>Mountain View</td><td>2013-12-31</td></tr><tr><td>33</td><td>Rengstorff Avenue / California Street</td><td>37.400241</td><td>-122.099076</td><td>15</td><td>Mountain View</td><td>2013-08-16</td></tr><tr><td>34</td><td>Palo Alto Caltrain Station</td><td>37.443988</td><td>-122.164759</td><td>23</td><td>Palo Alto</td><td>2013-08-14</td></tr><tr><td>35</td><td>University and Emerson</td><td>37.444521</td><td>-122.163093</td><td>11</td><td>Palo Alto</td><td>2013-08-15</td></tr><tr><td>36</td><td>California Ave Caltrain Station</td><td>37.429082</td><td>-122.142805</td><td>15</td><td>Palo Alto</td><td>2013-08-14</td></tr><tr><td>37</td><td>Cowper at University</td><td>37.448598</td><td>-122.159504</td><td>11</td><td>Palo Alto</td><td>2013-08-14</td></tr><tr><td>38</td><td>Park at Olive</td><td>37.4256839</td><td>-122.1377775</td><td>15</td><td>Palo Alto</td><td>2013-08-14</td></tr><tr><td>41</td><td>Clay at Battery</td><td>37.795001</td><td>-122.39997</td><td>15</td><td>San Francisco</td><td>2013-08-19</td></tr><tr><td>42</td><td>Davis at Jackson</td><td>37.79728</td><td>-122.398436</td><td>15</td><td>San Francisco</td><td>2013-08-19</td></tr><tr><td>45</td><td>Commercial at Montgomery</td><td>37.794231</td><td>-122.402923</td><td>15</td><td>San Francisco</td><td>2013-08-19</td></tr><tr><td>46</td><td>Washington at Kearney</td><td>37.795425</td><td>-122.404767</td><td>15</td><td>San Francisco</td><td>2013-08-19</td></tr><tr><td>47</td><td>Post at Kearney</td><td>37.788975</td><td>-122.403452</td><td>19</td><td>San Francisco</td><td>2013-08-19</td></tr><tr><td>48</td><td>Embarcadero at Vallejo</td><td>37.799953</td><td>-122.398525</td><td>15</td><td>San Francisco</td><td>2013-08-19</td></tr><tr><td>49</td><td>Spear at Folsom</td><td>37.790302</td><td>-122.390637</td><td>19</td><td>San Francisco</td><td>2013-08-20</td></tr><tr><td>50</td><td>Harry Bridges Plaza (Ferry Building)</td><td>37.795392</td><td>-122.394203</td><td>23</td><td>San Francisco</td><td>2013-08-20</td></tr><tr><td>51</td><td>Embarcadero at Folsom</td><td>37.791464</td><td>-122.391034</td><td>19</td><td>San Francisco</td><td>2013-08-20</td></tr><tr><td>39</td><td>Powell Street BART</td><td>37.783871</td><td>-122.408433</td><td>19</td><td>San Francisco</td><td>2013-08-25</td></tr><tr><td>54</td><td>Embarcadero at Bryant</td><td>37.787152</td><td>-122.388013</td><td>15</td><td>San Francisco</td><td>2013-08-20</td></tr><tr><td>55</td><td>Temporary Transbay Terminal (Howard at Beale)</td><td>37.789756</td><td>-122.394643</td><td>23</td><td>San Francisco</td><td>2013-08-20</td></tr><tr><td>56</td><td>Beale at Market</td><td>37.792251</td><td>-122.397086</td><td>19</td><td>San Francisco</td><td>2013-08-20</td></tr><tr><td>57</td><td>5th at Howard</td><td>37.781752</td><td>-122.405127</td><td>15</td><td>San Francisco</td><td>2013-08-21</td></tr><tr><td>58</td><td>San Francisco City Hall</td><td>37.77865</td><td>-122.418235</td><td>19</td><td>San Francisco</td><td>2013-08-21</td></tr><tr><td>59</td><td>Golden Gate at Polk</td><td>37.781332</td><td>-122.418603</td><td>23</td><td>San Francisco</td><td>2013-08-21</td></tr><tr><td>60</td><td>Embarcadero at Sansome</td><td>37.80477</td><td>-122.403234</td><td>15</td><td>San Francisco</td><td>2013-08-21</td></tr><tr><td>61</td><td>2nd at Townsend</td><td>37.780526</td><td>-122.390288</td><td>27</td><td>San Francisco</td><td>2013-08-22</td></tr><tr><td>62</td><td>2nd at Folsom</td><td>37.785299</td><td>-122.396236</td><td>19</td><td>San Francisco</td><td>2013-08-22</td></tr><tr><td>63</td><td>Howard at 2nd</td><td>37.786978</td><td>-122.398108</td><td>19</td><td>San Francisco</td><td>2013-08-22</td></tr><tr><td>64</td><td>2nd at South Park</td><td>37.782259</td><td>-122.392738</td><td>15</td><td>San Francisco</td><td>2013-08-22</td></tr><tr><td>65</td><td>Townsend at 7th</td><td>37.771058</td><td>-122.402717</td><td>15</td><td>San Francisco</td><td>2013-08-22</td></tr><tr><td>66</td><td>South Van Ness at Market</td><td>37.774814</td><td>-122.418954</td><td>19</td><td>San Francisco</td><td>2013-08-23</td></tr><tr><td>67</td><td>Market at 10th</td><td>37.776619</td><td>-122.417385</td><td>27</td><td>San Francisco</td><td>2013-08-23</td></tr><tr><td>68</td><td>Yerba Buena Center of the Arts (3rd @ Howard)</td><td>37.784878</td><td>-122.401014</td><td>19</td><td>San Francisco</td><td>2013-08-23</td></tr><tr><td>69</td><td>San Francisco Caltrain 2 (330 Townsend)</td><td>37.7766</td><td>-122.39547</td><td>23</td><td>San Francisco</td><td>2013-08-23</td></tr><tr><td>70</td><td>San Francisco Caltrain (Townsend at 4th)</td><td>37.776617</td><td>-122.39526</td><td>19</td><td>San Francisco</td><td>2013-08-23</td></tr><tr><td>71</td><td>Powell at Post (Union Square)</td><td>37.788446</td><td>-122.408499</td><td>19</td><td>San Francisco</td><td>2013-08-23</td></tr><tr><td>72</td><td>Civic Center BART (7th at Market)</td><td>37.781039</td><td>-122.411748</td><td>23</td><td>San Francisco</td><td>2013-08-23</td></tr><tr><td>73</td><td>Grant Avenue at Columbus Avenue</td><td>37.798522</td><td>-122.407245</td><td>15</td><td>San Francisco</td><td>2013-08-21</td></tr><tr><td>74</td><td>Steuart at Market</td><td>37.794139</td><td>-122.394434</td><td>23</td><td>San Francisco</td><td>2013-08-25</td></tr><tr><td>75</td><td>Mechanics Plaza (Market at Battery)</td><td>37.7913</td><td>-122.399051</td><td>19</td><td>San Francisco</td><td>2013-08-25</td></tr><tr><td>76</td><td>Market at 4th</td><td>37.786305</td><td>-122.404966</td><td>19</td><td>San Francisco</td><td>2013-08-25</td></tr><tr><td>77</td><td>Market at Sansome</td><td>37.789625</td><td>-122.400811</td><td>27</td><td>San Francisco</td><td>2013-08-25</td></tr><tr><td>80</td><td>Santa Clara County Civic Center</td><td>37.352601</td><td>-121.905733</td><td>15</td><td>San Jose</td><td>2013-12-31</td></tr><tr><td>82</td><td>Broadway St at Battery St</td><td>37.798541</td><td>-122.400862</td><td>15</td><td>San Francisco</td><td>2014-01-22</td></tr><tr><td>83</td><td>Mezes Park</td><td>37.491269</td><td>-122.236234</td><td>15</td><td>Redwood City</td><td>2014-02-20</td></tr><tr><td>84</td><td>Ryland Park</td><td>37.342725</td><td>-121.895617</td><td>15</td><td>San Jose</td><td>2014-04-09</td></tr></tbody></table></div>"
      ]
     },
     "metadata": {
      "application/vnd.databricks.v1+output": {
       "addedWidgets": {},
       "aggData": [],
       "aggError": "",
       "aggOverflow": false,
       "aggSchema": [],
       "aggSeriesLimitReached": false,
       "aggType": "",
       "arguments": {},
       "columnCustomDisplayInfos": {},
       "data": [
        [
         2,
         "San Jose Diridon Caltrain Station",
         37.329732,
         -121.901782,
         27,
         "San Jose",
         "2013-08-06"
        ],
        [
         3,
         "San Jose Civic Center",
         37.330698,
         -121.888979,
         15,
         "San Jose",
         "2013-08-05"
        ],
        [
         4,
         "Santa Clara at Almaden",
         37.333988,
         -121.894902,
         11,
         "San Jose",
         "2013-08-06"
        ],
        [
         5,
         "Adobe on Almaden",
         37.331415,
         -121.8932,
         19,
         "San Jose",
         "2013-08-05"
        ],
        [
         6,
         "San Pedro Square",
         37.336721,
         -121.894074,
         15,
         "San Jose",
         "2013-08-07"
        ],
        [
         7,
         "Paseo de San Antonio",
         37.333798,
         -121.886943,
         15,
         "San Jose",
         "2013-08-07"
        ],
        [
         8,
         "San Salvador at 1st",
         37.330165,
         -121.885831,
         15,
         "San Jose",
         "2013-08-05"
        ],
        [
         9,
         "Japantown",
         37.348742,
         -121.894715,
         15,
         "San Jose",
         "2013-08-05"
        ],
        [
         10,
         "San Jose City Hall",
         37.337391,
         -121.886995,
         15,
         "San Jose",
         "2013-08-06"
        ],
        [
         11,
         "MLK Library",
         37.335885,
         -121.88566,
         19,
         "San Jose",
         "2013-08-06"
        ],
        [
         12,
         "SJSU 4th at San Carlos",
         37.332808,
         -121.883891,
         19,
         "San Jose",
         "2013-08-07"
        ],
        [
         13,
         "St James Park",
         37.339301,
         -121.889937,
         15,
         "San Jose",
         "2013-08-06"
        ],
        [
         14,
         "Arena Green / SAP Center",
         37.332692,
         -121.900084,
         19,
         "San Jose",
         "2013-08-05"
        ],
        [
         16,
         "SJSU - San Salvador at 9th",
         37.333955,
         -121.877349,
         15,
         "San Jose",
         "2013-08-07"
        ],
        [
         21,
         "Franklin at Maple",
         37.481758,
         -122.226904,
         15,
         "Redwood City",
         "2013-08-12"
        ],
        [
         22,
         "Redwood City Caltrain Station",
         37.486078,
         -122.232089,
         25,
         "Redwood City",
         "2013-08-15"
        ],
        [
         23,
         "San Mateo County Center",
         37.487616,
         -122.229951,
         15,
         "Redwood City",
         "2013-08-15"
        ],
        [
         24,
         "Redwood City Public Library",
         37.484219,
         -122.227424,
         15,
         "Redwood City",
         "2013-08-12"
        ],
        [
         25,
         "Stanford in Redwood City",
         37.48537,
         -122.203288,
         15,
         "Redwood City",
         "2013-08-12"
        ],
        [
         26,
         "Redwood City Medical Center",
         37.487682,
         -122.223492,
         15,
         "Redwood City",
         "2013-08-12"
        ],
        [
         27,
         "Mountain View City Hall",
         37.389218,
         -122.081896,
         15,
         "Mountain View",
         "2013-08-16"
        ],
        [
         28,
         "Mountain View Caltrain Station",
         37.394358,
         -122.076713,
         23,
         "Mountain View",
         "2013-08-15"
        ],
        [
         29,
         "San Antonio Caltrain Station",
         37.40694,
         -122.106758,
         23,
         "Mountain View",
         "2013-08-15"
        ],
        [
         30,
         "Evelyn Park and Ride",
         37.390277,
         -122.066553,
         15,
         "Mountain View",
         "2013-08-16"
        ],
        [
         31,
         "San Antonio Shopping Center",
         37.400443,
         -122.108338,
         15,
         "Mountain View",
         "2013-12-31"
        ],
        [
         32,
         "Castro Street and El Camino Real",
         37.385956,
         -122.083678,
         11,
         "Mountain View",
         "2013-12-31"
        ],
        [
         33,
         "Rengstorff Avenue / California Street",
         37.400241,
         -122.099076,
         15,
         "Mountain View",
         "2013-08-16"
        ],
        [
         34,
         "Palo Alto Caltrain Station",
         37.443988,
         -122.164759,
         23,
         "Palo Alto",
         "2013-08-14"
        ],
        [
         35,
         "University and Emerson",
         37.444521,
         -122.163093,
         11,
         "Palo Alto",
         "2013-08-15"
        ],
        [
         36,
         "California Ave Caltrain Station",
         37.429082,
         -122.142805,
         15,
         "Palo Alto",
         "2013-08-14"
        ],
        [
         37,
         "Cowper at University",
         37.448598,
         -122.159504,
         11,
         "Palo Alto",
         "2013-08-14"
        ],
        [
         38,
         "Park at Olive",
         37.4256839,
         -122.1377775,
         15,
         "Palo Alto",
         "2013-08-14"
        ],
        [
         41,
         "Clay at Battery",
         37.795001,
         -122.39997,
         15,
         "San Francisco",
         "2013-08-19"
        ],
        [
         42,
         "Davis at Jackson",
         37.79728,
         -122.398436,
         15,
         "San Francisco",
         "2013-08-19"
        ],
        [
         45,
         "Commercial at Montgomery",
         37.794231,
         -122.402923,
         15,
         "San Francisco",
         "2013-08-19"
        ],
        [
         46,
         "Washington at Kearney",
         37.795425,
         -122.404767,
         15,
         "San Francisco",
         "2013-08-19"
        ],
        [
         47,
         "Post at Kearney",
         37.788975,
         -122.403452,
         19,
         "San Francisco",
         "2013-08-19"
        ],
        [
         48,
         "Embarcadero at Vallejo",
         37.799953,
         -122.398525,
         15,
         "San Francisco",
         "2013-08-19"
        ],
        [
         49,
         "Spear at Folsom",
         37.790302,
         -122.390637,
         19,
         "San Francisco",
         "2013-08-20"
        ],
        [
         50,
         "Harry Bridges Plaza (Ferry Building)",
         37.795392,
         -122.394203,
         23,
         "San Francisco",
         "2013-08-20"
        ],
        [
         51,
         "Embarcadero at Folsom",
         37.791464,
         -122.391034,
         19,
         "San Francisco",
         "2013-08-20"
        ],
        [
         39,
         "Powell Street BART",
         37.783871,
         -122.408433,
         19,
         "San Francisco",
         "2013-08-25"
        ],
        [
         54,
         "Embarcadero at Bryant",
         37.787152,
         -122.388013,
         15,
         "San Francisco",
         "2013-08-20"
        ],
        [
         55,
         "Temporary Transbay Terminal (Howard at Beale)",
         37.789756,
         -122.394643,
         23,
         "San Francisco",
         "2013-08-20"
        ],
        [
         56,
         "Beale at Market",
         37.792251,
         -122.397086,
         19,
         "San Francisco",
         "2013-08-20"
        ],
        [
         57,
         "5th at Howard",
         37.781752,
         -122.405127,
         15,
         "San Francisco",
         "2013-08-21"
        ],
        [
         58,
         "San Francisco City Hall",
         37.77865,
         -122.418235,
         19,
         "San Francisco",
         "2013-08-21"
        ],
        [
         59,
         "Golden Gate at Polk",
         37.781332,
         -122.418603,
         23,
         "San Francisco",
         "2013-08-21"
        ],
        [
         60,
         "Embarcadero at Sansome",
         37.80477,
         -122.403234,
         15,
         "San Francisco",
         "2013-08-21"
        ],
        [
         61,
         "2nd at Townsend",
         37.780526,
         -122.390288,
         27,
         "San Francisco",
         "2013-08-22"
        ],
        [
         62,
         "2nd at Folsom",
         37.785299,
         -122.396236,
         19,
         "San Francisco",
         "2013-08-22"
        ],
        [
         63,
         "Howard at 2nd",
         37.786978,
         -122.398108,
         19,
         "San Francisco",
         "2013-08-22"
        ],
        [
         64,
         "2nd at South Park",
         37.782259,
         -122.392738,
         15,
         "San Francisco",
         "2013-08-22"
        ],
        [
         65,
         "Townsend at 7th",
         37.771058,
         -122.402717,
         15,
         "San Francisco",
         "2013-08-22"
        ],
        [
         66,
         "South Van Ness at Market",
         37.774814,
         -122.418954,
         19,
         "San Francisco",
         "2013-08-23"
        ],
        [
         67,
         "Market at 10th",
         37.776619,
         -122.417385,
         27,
         "San Francisco",
         "2013-08-23"
        ],
        [
         68,
         "Yerba Buena Center of the Arts (3rd @ Howard)",
         37.784878,
         -122.401014,
         19,
         "San Francisco",
         "2013-08-23"
        ],
        [
         69,
         "San Francisco Caltrain 2 (330 Townsend)",
         37.7766,
         -122.39547,
         23,
         "San Francisco",
         "2013-08-23"
        ],
        [
         70,
         "San Francisco Caltrain (Townsend at 4th)",
         37.776617,
         -122.39526,
         19,
         "San Francisco",
         "2013-08-23"
        ],
        [
         71,
         "Powell at Post (Union Square)",
         37.788446,
         -122.408499,
         19,
         "San Francisco",
         "2013-08-23"
        ],
        [
         72,
         "Civic Center BART (7th at Market)",
         37.781039,
         -122.411748,
         23,
         "San Francisco",
         "2013-08-23"
        ],
        [
         73,
         "Grant Avenue at Columbus Avenue",
         37.798522,
         -122.407245,
         15,
         "San Francisco",
         "2013-08-21"
        ],
        [
         74,
         "Steuart at Market",
         37.794139,
         -122.394434,
         23,
         "San Francisco",
         "2013-08-25"
        ],
        [
         75,
         "Mechanics Plaza (Market at Battery)",
         37.7913,
         -122.399051,
         19,
         "San Francisco",
         "2013-08-25"
        ],
        [
         76,
         "Market at 4th",
         37.786305,
         -122.404966,
         19,
         "San Francisco",
         "2013-08-25"
        ],
        [
         77,
         "Market at Sansome",
         37.789625,
         -122.400811,
         27,
         "San Francisco",
         "2013-08-25"
        ],
        [
         80,
         "Santa Clara County Civic Center",
         37.352601,
         -121.905733,
         15,
         "San Jose",
         "2013-12-31"
        ],
        [
         82,
         "Broadway St at Battery St",
         37.798541,
         -122.400862,
         15,
         "San Francisco",
         "2014-01-22"
        ],
        [
         83,
         "Mezes Park",
         37.491269,
         -122.236234,
         15,
         "Redwood City",
         "2014-02-20"
        ],
        [
         84,
         "Ryland Park",
         37.342725,
         -121.895617,
         15,
         "San Jose",
         "2014-04-09"
        ]
       ],
       "datasetInfos": [],
       "dbfsResultPath": null,
       "isJsonSchema": true,
       "metadata": {},
       "overflow": false,
       "plotOptions": {
        "customPlotOptions": {},
        "displayType": "table",
        "pivotAggregation": null,
        "pivotColumns": null,
        "xColumns": null,
        "yColumns": null
       },
       "removedWidgets": [],
       "schema": [
        {
         "metadata": "{}",
         "name": "station_id",
         "type": "\"integer\""
        },
        {
         "metadata": "{}",
         "name": "name",
         "type": "\"string\""
        },
        {
         "metadata": "{}",
         "name": "lat",
         "type": "\"double\""
        },
        {
         "metadata": "{}",
         "name": "long",
         "type": "\"double\""
        },
        {
         "metadata": "{}",
         "name": "dockcount",
         "type": "\"integer\""
        },
        {
         "metadata": "{}",
         "name": "landmark",
         "type": "\"string\""
        },
        {
         "metadata": "{\"__detected_date_formats\":\"M/d/yyyy\"}",
         "name": "installation",
         "type": "\"date\""
        }
       ],
       "type": "table"
      }
     },
     "output_type": "display_data"
    }
   ],
   "source": [
    "filePath = \"dbfs:/FileStore/tables/Files/201508_station_data.csv\"\n",
    "station_data = spark.read.format(\"csv\").option(\"header\",\"true\").option(\"inferSchema\",\"true\").load(filePath)\n",
    "display(station_data)\n",
    "\n"
   ]
  },
  {
   "cell_type": "code",
   "execution_count": 0,
   "metadata": {
    "application/vnd.databricks.v1+cell": {
     "cellMetadata": {
      "byteLimit": 2048000,
      "rowLimit": 10000
     },
     "inputWidgets": {},
     "nuid": "f6415264-2c37-42ec-bed5-e560b8175ba1",
     "showTitle": false,
     "tableResultSettingsMap": {},
     "title": ""
    }
   },
   "outputs": [],
   "source": [
    "from pyspark.sql.window import Window\n",
    "from pyspark.sql.functions import col, lead, lag, first, last, row_number\n",
    "\n",
    "windowSpec = Window.partitionBy(\"landmark\").orderBy(\"installation\")"
   ]
  },
  {
   "cell_type": "code",
   "execution_count": 0,
   "metadata": {
    "application/vnd.databricks.v1+cell": {
     "cellMetadata": {
      "byteLimit": 2048000,
      "rowLimit": 10000
     },
     "inputWidgets": {},
     "nuid": "b3f3dc15-872f-4610-b093-f065775fd257",
     "showTitle": false,
     "tableResultSettingsMap": {},
     "title": ""
    }
   },
   "outputs": [
    {
     "output_type": "display_data",
     "data": {
      "text/html": [
       "<style scoped>\n",
       "  .table-result-container {\n",
       "    max-height: 300px;\n",
       "    overflow: auto;\n",
       "  }\n",
       "  table, th, td {\n",
       "    border: 1px solid black;\n",
       "    border-collapse: collapse;\n",
       "  }\n",
       "  th, td {\n",
       "    padding: 5px;\n",
       "  }\n",
       "  th {\n",
       "    text-align: left;\n",
       "  }\n",
       "</style><div class='table-result-container'><table class='table-result'><thead style='background-color: white'><tr><th>station_id</th><th>name</th><th>lat</th><th>long</th><th>dockcount</th><th>landmark</th><th>installation</th><th>next_station</th><th>prev_station</th><th>first_station</th><th>last_station</th><th>row_num</th></tr></thead><tbody><tr><td>28</td><td>Mountain View Caltrain Station</td><td>37.394358</td><td>-122.076713</td><td>23</td><td>Mountain View</td><td>2013-08-15</td><td>San Antonio Caltrain Station</td><td>null</td><td>Mountain View Caltrain Station</td><td>San Antonio Caltrain Station</td><td>1</td></tr><tr><td>29</td><td>San Antonio Caltrain Station</td><td>37.40694</td><td>-122.106758</td><td>23</td><td>Mountain View</td><td>2013-08-15</td><td>Mountain View City Hall</td><td>Mountain View Caltrain Station</td><td>Mountain View Caltrain Station</td><td>San Antonio Caltrain Station</td><td>2</td></tr><tr><td>27</td><td>Mountain View City Hall</td><td>37.389218</td><td>-122.081896</td><td>15</td><td>Mountain View</td><td>2013-08-16</td><td>Evelyn Park and Ride</td><td>San Antonio Caltrain Station</td><td>Mountain View Caltrain Station</td><td>Rengstorff Avenue / California Street</td><td>3</td></tr><tr><td>30</td><td>Evelyn Park and Ride</td><td>37.390277</td><td>-122.066553</td><td>15</td><td>Mountain View</td><td>2013-08-16</td><td>Rengstorff Avenue / California Street</td><td>Mountain View City Hall</td><td>Mountain View Caltrain Station</td><td>Rengstorff Avenue / California Street</td><td>4</td></tr><tr><td>33</td><td>Rengstorff Avenue / California Street</td><td>37.400241</td><td>-122.099076</td><td>15</td><td>Mountain View</td><td>2013-08-16</td><td>San Antonio Shopping Center</td><td>Evelyn Park and Ride</td><td>Mountain View Caltrain Station</td><td>Rengstorff Avenue / California Street</td><td>5</td></tr><tr><td>31</td><td>San Antonio Shopping Center</td><td>37.400443</td><td>-122.108338</td><td>15</td><td>Mountain View</td><td>2013-12-31</td><td>Castro Street and El Camino Real</td><td>Rengstorff Avenue / California Street</td><td>Mountain View Caltrain Station</td><td>Castro Street and El Camino Real</td><td>6</td></tr><tr><td>32</td><td>Castro Street and El Camino Real</td><td>37.385956</td><td>-122.083678</td><td>11</td><td>Mountain View</td><td>2013-12-31</td><td>null</td><td>San Antonio Shopping Center</td><td>Mountain View Caltrain Station</td><td>Castro Street and El Camino Real</td><td>7</td></tr><tr><td>34</td><td>Palo Alto Caltrain Station</td><td>37.443988</td><td>-122.164759</td><td>23</td><td>Palo Alto</td><td>2013-08-14</td><td>California Ave Caltrain Station</td><td>null</td><td>Palo Alto Caltrain Station</td><td>Park at Olive</td><td>1</td></tr><tr><td>36</td><td>California Ave Caltrain Station</td><td>37.429082</td><td>-122.142805</td><td>15</td><td>Palo Alto</td><td>2013-08-14</td><td>Cowper at University</td><td>Palo Alto Caltrain Station</td><td>Palo Alto Caltrain Station</td><td>Park at Olive</td><td>2</td></tr><tr><td>37</td><td>Cowper at University</td><td>37.448598</td><td>-122.159504</td><td>11</td><td>Palo Alto</td><td>2013-08-14</td><td>Park at Olive</td><td>California Ave Caltrain Station</td><td>Palo Alto Caltrain Station</td><td>Park at Olive</td><td>3</td></tr><tr><td>38</td><td>Park at Olive</td><td>37.4256839</td><td>-122.1377775</td><td>15</td><td>Palo Alto</td><td>2013-08-14</td><td>University and Emerson</td><td>Cowper at University</td><td>Palo Alto Caltrain Station</td><td>Park at Olive</td><td>4</td></tr><tr><td>35</td><td>University and Emerson</td><td>37.444521</td><td>-122.163093</td><td>11</td><td>Palo Alto</td><td>2013-08-15</td><td>null</td><td>Park at Olive</td><td>Palo Alto Caltrain Station</td><td>University and Emerson</td><td>5</td></tr><tr><td>21</td><td>Franklin at Maple</td><td>37.481758</td><td>-122.226904</td><td>15</td><td>Redwood City</td><td>2013-08-12</td><td>Redwood City Public Library</td><td>null</td><td>Franklin at Maple</td><td>Redwood City Medical Center</td><td>1</td></tr><tr><td>24</td><td>Redwood City Public Library</td><td>37.484219</td><td>-122.227424</td><td>15</td><td>Redwood City</td><td>2013-08-12</td><td>Stanford in Redwood City</td><td>Franklin at Maple</td><td>Franklin at Maple</td><td>Redwood City Medical Center</td><td>2</td></tr><tr><td>25</td><td>Stanford in Redwood City</td><td>37.48537</td><td>-122.203288</td><td>15</td><td>Redwood City</td><td>2013-08-12</td><td>Redwood City Medical Center</td><td>Redwood City Public Library</td><td>Franklin at Maple</td><td>Redwood City Medical Center</td><td>3</td></tr><tr><td>26</td><td>Redwood City Medical Center</td><td>37.487682</td><td>-122.223492</td><td>15</td><td>Redwood City</td><td>2013-08-12</td><td>Redwood City Caltrain Station</td><td>Stanford in Redwood City</td><td>Franklin at Maple</td><td>Redwood City Medical Center</td><td>4</td></tr><tr><td>22</td><td>Redwood City Caltrain Station</td><td>37.486078</td><td>-122.232089</td><td>25</td><td>Redwood City</td><td>2013-08-15</td><td>San Mateo County Center</td><td>Redwood City Medical Center</td><td>Franklin at Maple</td><td>San Mateo County Center</td><td>5</td></tr><tr><td>23</td><td>San Mateo County Center</td><td>37.487616</td><td>-122.229951</td><td>15</td><td>Redwood City</td><td>2013-08-15</td><td>Mezes Park</td><td>Redwood City Caltrain Station</td><td>Franklin at Maple</td><td>San Mateo County Center</td><td>6</td></tr><tr><td>83</td><td>Mezes Park</td><td>37.491269</td><td>-122.236234</td><td>15</td><td>Redwood City</td><td>2014-02-20</td><td>null</td><td>San Mateo County Center</td><td>Franklin at Maple</td><td>Mezes Park</td><td>7</td></tr><tr><td>41</td><td>Clay at Battery</td><td>37.795001</td><td>-122.39997</td><td>15</td><td>San Francisco</td><td>2013-08-19</td><td>Davis at Jackson</td><td>null</td><td>Clay at Battery</td><td>Embarcadero at Vallejo</td><td>1</td></tr><tr><td>42</td><td>Davis at Jackson</td><td>37.79728</td><td>-122.398436</td><td>15</td><td>San Francisco</td><td>2013-08-19</td><td>Commercial at Montgomery</td><td>Clay at Battery</td><td>Clay at Battery</td><td>Embarcadero at Vallejo</td><td>2</td></tr><tr><td>45</td><td>Commercial at Montgomery</td><td>37.794231</td><td>-122.402923</td><td>15</td><td>San Francisco</td><td>2013-08-19</td><td>Washington at Kearney</td><td>Davis at Jackson</td><td>Clay at Battery</td><td>Embarcadero at Vallejo</td><td>3</td></tr><tr><td>46</td><td>Washington at Kearney</td><td>37.795425</td><td>-122.404767</td><td>15</td><td>San Francisco</td><td>2013-08-19</td><td>Post at Kearney</td><td>Commercial at Montgomery</td><td>Clay at Battery</td><td>Embarcadero at Vallejo</td><td>4</td></tr><tr><td>47</td><td>Post at Kearney</td><td>37.788975</td><td>-122.403452</td><td>19</td><td>San Francisco</td><td>2013-08-19</td><td>Embarcadero at Vallejo</td><td>Washington at Kearney</td><td>Clay at Battery</td><td>Embarcadero at Vallejo</td><td>5</td></tr><tr><td>48</td><td>Embarcadero at Vallejo</td><td>37.799953</td><td>-122.398525</td><td>15</td><td>San Francisco</td><td>2013-08-19</td><td>Spear at Folsom</td><td>Post at Kearney</td><td>Clay at Battery</td><td>Embarcadero at Vallejo</td><td>6</td></tr><tr><td>49</td><td>Spear at Folsom</td><td>37.790302</td><td>-122.390637</td><td>19</td><td>San Francisco</td><td>2013-08-20</td><td>Harry Bridges Plaza (Ferry Building)</td><td>Embarcadero at Vallejo</td><td>Clay at Battery</td><td>Beale at Market</td><td>7</td></tr><tr><td>50</td><td>Harry Bridges Plaza (Ferry Building)</td><td>37.795392</td><td>-122.394203</td><td>23</td><td>San Francisco</td><td>2013-08-20</td><td>Embarcadero at Folsom</td><td>Spear at Folsom</td><td>Clay at Battery</td><td>Beale at Market</td><td>8</td></tr><tr><td>51</td><td>Embarcadero at Folsom</td><td>37.791464</td><td>-122.391034</td><td>19</td><td>San Francisco</td><td>2013-08-20</td><td>Embarcadero at Bryant</td><td>Harry Bridges Plaza (Ferry Building)</td><td>Clay at Battery</td><td>Beale at Market</td><td>9</td></tr><tr><td>54</td><td>Embarcadero at Bryant</td><td>37.787152</td><td>-122.388013</td><td>15</td><td>San Francisco</td><td>2013-08-20</td><td>Temporary Transbay Terminal (Howard at Beale)</td><td>Embarcadero at Folsom</td><td>Clay at Battery</td><td>Beale at Market</td><td>10</td></tr><tr><td>55</td><td>Temporary Transbay Terminal (Howard at Beale)</td><td>37.789756</td><td>-122.394643</td><td>23</td><td>San Francisco</td><td>2013-08-20</td><td>Beale at Market</td><td>Embarcadero at Bryant</td><td>Clay at Battery</td><td>Beale at Market</td><td>11</td></tr><tr><td>56</td><td>Beale at Market</td><td>37.792251</td><td>-122.397086</td><td>19</td><td>San Francisco</td><td>2013-08-20</td><td>5th at Howard</td><td>Temporary Transbay Terminal (Howard at Beale)</td><td>Clay at Battery</td><td>Beale at Market</td><td>12</td></tr><tr><td>57</td><td>5th at Howard</td><td>37.781752</td><td>-122.405127</td><td>15</td><td>San Francisco</td><td>2013-08-21</td><td>San Francisco City Hall</td><td>Beale at Market</td><td>Clay at Battery</td><td>Grant Avenue at Columbus Avenue</td><td>13</td></tr><tr><td>58</td><td>San Francisco City Hall</td><td>37.77865</td><td>-122.418235</td><td>19</td><td>San Francisco</td><td>2013-08-21</td><td>Golden Gate at Polk</td><td>5th at Howard</td><td>Clay at Battery</td><td>Grant Avenue at Columbus Avenue</td><td>14</td></tr><tr><td>59</td><td>Golden Gate at Polk</td><td>37.781332</td><td>-122.418603</td><td>23</td><td>San Francisco</td><td>2013-08-21</td><td>Embarcadero at Sansome</td><td>San Francisco City Hall</td><td>Clay at Battery</td><td>Grant Avenue at Columbus Avenue</td><td>15</td></tr><tr><td>60</td><td>Embarcadero at Sansome</td><td>37.80477</td><td>-122.403234</td><td>15</td><td>San Francisco</td><td>2013-08-21</td><td>Grant Avenue at Columbus Avenue</td><td>Golden Gate at Polk</td><td>Clay at Battery</td><td>Grant Avenue at Columbus Avenue</td><td>16</td></tr><tr><td>73</td><td>Grant Avenue at Columbus Avenue</td><td>37.798522</td><td>-122.407245</td><td>15</td><td>San Francisco</td><td>2013-08-21</td><td>2nd at Townsend</td><td>Embarcadero at Sansome</td><td>Clay at Battery</td><td>Grant Avenue at Columbus Avenue</td><td>17</td></tr><tr><td>61</td><td>2nd at Townsend</td><td>37.780526</td><td>-122.390288</td><td>27</td><td>San Francisco</td><td>2013-08-22</td><td>2nd at Folsom</td><td>Grant Avenue at Columbus Avenue</td><td>Clay at Battery</td><td>Townsend at 7th</td><td>18</td></tr><tr><td>62</td><td>2nd at Folsom</td><td>37.785299</td><td>-122.396236</td><td>19</td><td>San Francisco</td><td>2013-08-22</td><td>Howard at 2nd</td><td>2nd at Townsend</td><td>Clay at Battery</td><td>Townsend at 7th</td><td>19</td></tr><tr><td>63</td><td>Howard at 2nd</td><td>37.786978</td><td>-122.398108</td><td>19</td><td>San Francisco</td><td>2013-08-22</td><td>2nd at South Park</td><td>2nd at Folsom</td><td>Clay at Battery</td><td>Townsend at 7th</td><td>20</td></tr><tr><td>64</td><td>2nd at South Park</td><td>37.782259</td><td>-122.392738</td><td>15</td><td>San Francisco</td><td>2013-08-22</td><td>Townsend at 7th</td><td>Howard at 2nd</td><td>Clay at Battery</td><td>Townsend at 7th</td><td>21</td></tr><tr><td>65</td><td>Townsend at 7th</td><td>37.771058</td><td>-122.402717</td><td>15</td><td>San Francisco</td><td>2013-08-22</td><td>South Van Ness at Market</td><td>2nd at South Park</td><td>Clay at Battery</td><td>Townsend at 7th</td><td>22</td></tr><tr><td>66</td><td>South Van Ness at Market</td><td>37.774814</td><td>-122.418954</td><td>19</td><td>San Francisco</td><td>2013-08-23</td><td>Market at 10th</td><td>Townsend at 7th</td><td>Clay at Battery</td><td>Civic Center BART (7th at Market)</td><td>23</td></tr><tr><td>67</td><td>Market at 10th</td><td>37.776619</td><td>-122.417385</td><td>27</td><td>San Francisco</td><td>2013-08-23</td><td>Yerba Buena Center of the Arts (3rd @ Howard)</td><td>South Van Ness at Market</td><td>Clay at Battery</td><td>Civic Center BART (7th at Market)</td><td>24</td></tr><tr><td>68</td><td>Yerba Buena Center of the Arts (3rd @ Howard)</td><td>37.784878</td><td>-122.401014</td><td>19</td><td>San Francisco</td><td>2013-08-23</td><td>San Francisco Caltrain 2 (330 Townsend)</td><td>Market at 10th</td><td>Clay at Battery</td><td>Civic Center BART (7th at Market)</td><td>25</td></tr><tr><td>69</td><td>San Francisco Caltrain 2 (330 Townsend)</td><td>37.7766</td><td>-122.39547</td><td>23</td><td>San Francisco</td><td>2013-08-23</td><td>San Francisco Caltrain (Townsend at 4th)</td><td>Yerba Buena Center of the Arts (3rd @ Howard)</td><td>Clay at Battery</td><td>Civic Center BART (7th at Market)</td><td>26</td></tr><tr><td>70</td><td>San Francisco Caltrain (Townsend at 4th)</td><td>37.776617</td><td>-122.39526</td><td>19</td><td>San Francisco</td><td>2013-08-23</td><td>Powell at Post (Union Square)</td><td>San Francisco Caltrain 2 (330 Townsend)</td><td>Clay at Battery</td><td>Civic Center BART (7th at Market)</td><td>27</td></tr><tr><td>71</td><td>Powell at Post (Union Square)</td><td>37.788446</td><td>-122.408499</td><td>19</td><td>San Francisco</td><td>2013-08-23</td><td>Civic Center BART (7th at Market)</td><td>San Francisco Caltrain (Townsend at 4th)</td><td>Clay at Battery</td><td>Civic Center BART (7th at Market)</td><td>28</td></tr><tr><td>72</td><td>Civic Center BART (7th at Market)</td><td>37.781039</td><td>-122.411748</td><td>23</td><td>San Francisco</td><td>2013-08-23</td><td>Powell Street BART</td><td>Powell at Post (Union Square)</td><td>Clay at Battery</td><td>Civic Center BART (7th at Market)</td><td>29</td></tr><tr><td>39</td><td>Powell Street BART</td><td>37.783871</td><td>-122.408433</td><td>19</td><td>San Francisco</td><td>2013-08-25</td><td>Steuart at Market</td><td>Civic Center BART (7th at Market)</td><td>Clay at Battery</td><td>Market at Sansome</td><td>30</td></tr><tr><td>74</td><td>Steuart at Market</td><td>37.794139</td><td>-122.394434</td><td>23</td><td>San Francisco</td><td>2013-08-25</td><td>Mechanics Plaza (Market at Battery)</td><td>Powell Street BART</td><td>Clay at Battery</td><td>Market at Sansome</td><td>31</td></tr><tr><td>75</td><td>Mechanics Plaza (Market at Battery)</td><td>37.7913</td><td>-122.399051</td><td>19</td><td>San Francisco</td><td>2013-08-25</td><td>Market at 4th</td><td>Steuart at Market</td><td>Clay at Battery</td><td>Market at Sansome</td><td>32</td></tr><tr><td>76</td><td>Market at 4th</td><td>37.786305</td><td>-122.404966</td><td>19</td><td>San Francisco</td><td>2013-08-25</td><td>Market at Sansome</td><td>Mechanics Plaza (Market at Battery)</td><td>Clay at Battery</td><td>Market at Sansome</td><td>33</td></tr><tr><td>77</td><td>Market at Sansome</td><td>37.789625</td><td>-122.400811</td><td>27</td><td>San Francisco</td><td>2013-08-25</td><td>Broadway St at Battery St</td><td>Market at 4th</td><td>Clay at Battery</td><td>Market at Sansome</td><td>34</td></tr><tr><td>82</td><td>Broadway St at Battery St</td><td>37.798541</td><td>-122.400862</td><td>15</td><td>San Francisco</td><td>2014-01-22</td><td>null</td><td>Market at Sansome</td><td>Clay at Battery</td><td>Broadway St at Battery St</td><td>35</td></tr><tr><td>3</td><td>San Jose Civic Center</td><td>37.330698</td><td>-121.888979</td><td>15</td><td>San Jose</td><td>2013-08-05</td><td>Adobe on Almaden</td><td>null</td><td>San Jose Civic Center</td><td>Arena Green / SAP Center</td><td>1</td></tr><tr><td>5</td><td>Adobe on Almaden</td><td>37.331415</td><td>-121.8932</td><td>19</td><td>San Jose</td><td>2013-08-05</td><td>San Salvador at 1st</td><td>San Jose Civic Center</td><td>San Jose Civic Center</td><td>Arena Green / SAP Center</td><td>2</td></tr><tr><td>8</td><td>San Salvador at 1st</td><td>37.330165</td><td>-121.885831</td><td>15</td><td>San Jose</td><td>2013-08-05</td><td>Japantown</td><td>Adobe on Almaden</td><td>San Jose Civic Center</td><td>Arena Green / SAP Center</td><td>3</td></tr><tr><td>9</td><td>Japantown</td><td>37.348742</td><td>-121.894715</td><td>15</td><td>San Jose</td><td>2013-08-05</td><td>Arena Green / SAP Center</td><td>San Salvador at 1st</td><td>San Jose Civic Center</td><td>Arena Green / SAP Center</td><td>4</td></tr><tr><td>14</td><td>Arena Green / SAP Center</td><td>37.332692</td><td>-121.900084</td><td>19</td><td>San Jose</td><td>2013-08-05</td><td>San Jose Diridon Caltrain Station</td><td>Japantown</td><td>San Jose Civic Center</td><td>Arena Green / SAP Center</td><td>5</td></tr><tr><td>2</td><td>San Jose Diridon Caltrain Station</td><td>37.329732</td><td>-121.901782</td><td>27</td><td>San Jose</td><td>2013-08-06</td><td>Santa Clara at Almaden</td><td>Arena Green / SAP Center</td><td>San Jose Civic Center</td><td>St James Park</td><td>6</td></tr><tr><td>4</td><td>Santa Clara at Almaden</td><td>37.333988</td><td>-121.894902</td><td>11</td><td>San Jose</td><td>2013-08-06</td><td>San Jose City Hall</td><td>San Jose Diridon Caltrain Station</td><td>San Jose Civic Center</td><td>St James Park</td><td>7</td></tr><tr><td>10</td><td>San Jose City Hall</td><td>37.337391</td><td>-121.886995</td><td>15</td><td>San Jose</td><td>2013-08-06</td><td>MLK Library</td><td>Santa Clara at Almaden</td><td>San Jose Civic Center</td><td>St James Park</td><td>8</td></tr><tr><td>11</td><td>MLK Library</td><td>37.335885</td><td>-121.88566</td><td>19</td><td>San Jose</td><td>2013-08-06</td><td>St James Park</td><td>San Jose City Hall</td><td>San Jose Civic Center</td><td>St James Park</td><td>9</td></tr><tr><td>13</td><td>St James Park</td><td>37.339301</td><td>-121.889937</td><td>15</td><td>San Jose</td><td>2013-08-06</td><td>San Pedro Square</td><td>MLK Library</td><td>San Jose Civic Center</td><td>St James Park</td><td>10</td></tr><tr><td>6</td><td>San Pedro Square</td><td>37.336721</td><td>-121.894074</td><td>15</td><td>San Jose</td><td>2013-08-07</td><td>Paseo de San Antonio</td><td>St James Park</td><td>San Jose Civic Center</td><td>SJSU - San Salvador at 9th</td><td>11</td></tr><tr><td>7</td><td>Paseo de San Antonio</td><td>37.333798</td><td>-121.886943</td><td>15</td><td>San Jose</td><td>2013-08-07</td><td>SJSU 4th at San Carlos</td><td>San Pedro Square</td><td>San Jose Civic Center</td><td>SJSU - San Salvador at 9th</td><td>12</td></tr><tr><td>12</td><td>SJSU 4th at San Carlos</td><td>37.332808</td><td>-121.883891</td><td>19</td><td>San Jose</td><td>2013-08-07</td><td>SJSU - San Salvador at 9th</td><td>Paseo de San Antonio</td><td>San Jose Civic Center</td><td>SJSU - San Salvador at 9th</td><td>13</td></tr><tr><td>16</td><td>SJSU - San Salvador at 9th</td><td>37.333955</td><td>-121.877349</td><td>15</td><td>San Jose</td><td>2013-08-07</td><td>Santa Clara County Civic Center</td><td>SJSU 4th at San Carlos</td><td>San Jose Civic Center</td><td>SJSU - San Salvador at 9th</td><td>14</td></tr><tr><td>80</td><td>Santa Clara County Civic Center</td><td>37.352601</td><td>-121.905733</td><td>15</td><td>San Jose</td><td>2013-12-31</td><td>Ryland Park</td><td>SJSU - San Salvador at 9th</td><td>San Jose Civic Center</td><td>Santa Clara County Civic Center</td><td>15</td></tr><tr><td>84</td><td>Ryland Park</td><td>37.342725</td><td>-121.895617</td><td>15</td><td>San Jose</td><td>2014-04-09</td><td>null</td><td>Santa Clara County Civic Center</td><td>San Jose Civic Center</td><td>Ryland Park</td><td>16</td></tr></tbody></table></div>"
      ]
     },
     "metadata": {
      "application/vnd.databricks.v1+output": {
       "addedWidgets": {},
       "aggData": [],
       "aggError": "",
       "aggOverflow": false,
       "aggSchema": [],
       "aggSeriesLimitReached": false,
       "aggType": "",
       "arguments": {},
       "columnCustomDisplayInfos": {},
       "data": [
        [
         28,
         "Mountain View Caltrain Station",
         37.394358,
         -122.076713,
         23,
         "Mountain View",
         "2013-08-15",
         "San Antonio Caltrain Station",
         null,
         "Mountain View Caltrain Station",
         "San Antonio Caltrain Station",
         1
        ],
        [
         29,
         "San Antonio Caltrain Station",
         37.40694,
         -122.106758,
         23,
         "Mountain View",
         "2013-08-15",
         "Mountain View City Hall",
         "Mountain View Caltrain Station",
         "Mountain View Caltrain Station",
         "San Antonio Caltrain Station",
         2
        ],
        [
         27,
         "Mountain View City Hall",
         37.389218,
         -122.081896,
         15,
         "Mountain View",
         "2013-08-16",
         "Evelyn Park and Ride",
         "San Antonio Caltrain Station",
         "Mountain View Caltrain Station",
         "Rengstorff Avenue / California Street",
         3
        ],
        [
         30,
         "Evelyn Park and Ride",
         37.390277,
         -122.066553,
         15,
         "Mountain View",
         "2013-08-16",
         "Rengstorff Avenue / California Street",
         "Mountain View City Hall",
         "Mountain View Caltrain Station",
         "Rengstorff Avenue / California Street",
         4
        ],
        [
         33,
         "Rengstorff Avenue / California Street",
         37.400241,
         -122.099076,
         15,
         "Mountain View",
         "2013-08-16",
         "San Antonio Shopping Center",
         "Evelyn Park and Ride",
         "Mountain View Caltrain Station",
         "Rengstorff Avenue / California Street",
         5
        ],
        [
         31,
         "San Antonio Shopping Center",
         37.400443,
         -122.108338,
         15,
         "Mountain View",
         "2013-12-31",
         "Castro Street and El Camino Real",
         "Rengstorff Avenue / California Street",
         "Mountain View Caltrain Station",
         "Castro Street and El Camino Real",
         6
        ],
        [
         32,
         "Castro Street and El Camino Real",
         37.385956,
         -122.083678,
         11,
         "Mountain View",
         "2013-12-31",
         null,
         "San Antonio Shopping Center",
         "Mountain View Caltrain Station",
         "Castro Street and El Camino Real",
         7
        ],
        [
         34,
         "Palo Alto Caltrain Station",
         37.443988,
         -122.164759,
         23,
         "Palo Alto",
         "2013-08-14",
         "California Ave Caltrain Station",
         null,
         "Palo Alto Caltrain Station",
         "Park at Olive",
         1
        ],
        [
         36,
         "California Ave Caltrain Station",
         37.429082,
         -122.142805,
         15,
         "Palo Alto",
         "2013-08-14",
         "Cowper at University",
         "Palo Alto Caltrain Station",
         "Palo Alto Caltrain Station",
         "Park at Olive",
         2
        ],
        [
         37,
         "Cowper at University",
         37.448598,
         -122.159504,
         11,
         "Palo Alto",
         "2013-08-14",
         "Park at Olive",
         "California Ave Caltrain Station",
         "Palo Alto Caltrain Station",
         "Park at Olive",
         3
        ],
        [
         38,
         "Park at Olive",
         37.4256839,
         -122.1377775,
         15,
         "Palo Alto",
         "2013-08-14",
         "University and Emerson",
         "Cowper at University",
         "Palo Alto Caltrain Station",
         "Park at Olive",
         4
        ],
        [
         35,
         "University and Emerson",
         37.444521,
         -122.163093,
         11,
         "Palo Alto",
         "2013-08-15",
         null,
         "Park at Olive",
         "Palo Alto Caltrain Station",
         "University and Emerson",
         5
        ],
        [
         21,
         "Franklin at Maple",
         37.481758,
         -122.226904,
         15,
         "Redwood City",
         "2013-08-12",
         "Redwood City Public Library",
         null,
         "Franklin at Maple",
         "Redwood City Medical Center",
         1
        ],
        [
         24,
         "Redwood City Public Library",
         37.484219,
         -122.227424,
         15,
         "Redwood City",
         "2013-08-12",
         "Stanford in Redwood City",
         "Franklin at Maple",
         "Franklin at Maple",
         "Redwood City Medical Center",
         2
        ],
        [
         25,
         "Stanford in Redwood City",
         37.48537,
         -122.203288,
         15,
         "Redwood City",
         "2013-08-12",
         "Redwood City Medical Center",
         "Redwood City Public Library",
         "Franklin at Maple",
         "Redwood City Medical Center",
         3
        ],
        [
         26,
         "Redwood City Medical Center",
         37.487682,
         -122.223492,
         15,
         "Redwood City",
         "2013-08-12",
         "Redwood City Caltrain Station",
         "Stanford in Redwood City",
         "Franklin at Maple",
         "Redwood City Medical Center",
         4
        ],
        [
         22,
         "Redwood City Caltrain Station",
         37.486078,
         -122.232089,
         25,
         "Redwood City",
         "2013-08-15",
         "San Mateo County Center",
         "Redwood City Medical Center",
         "Franklin at Maple",
         "San Mateo County Center",
         5
        ],
        [
         23,
         "San Mateo County Center",
         37.487616,
         -122.229951,
         15,
         "Redwood City",
         "2013-08-15",
         "Mezes Park",
         "Redwood City Caltrain Station",
         "Franklin at Maple",
         "San Mateo County Center",
         6
        ],
        [
         83,
         "Mezes Park",
         37.491269,
         -122.236234,
         15,
         "Redwood City",
         "2014-02-20",
         null,
         "San Mateo County Center",
         "Franklin at Maple",
         "Mezes Park",
         7
        ],
        [
         41,
         "Clay at Battery",
         37.795001,
         -122.39997,
         15,
         "San Francisco",
         "2013-08-19",
         "Davis at Jackson",
         null,
         "Clay at Battery",
         "Embarcadero at Vallejo",
         1
        ],
        [
         42,
         "Davis at Jackson",
         37.79728,
         -122.398436,
         15,
         "San Francisco",
         "2013-08-19",
         "Commercial at Montgomery",
         "Clay at Battery",
         "Clay at Battery",
         "Embarcadero at Vallejo",
         2
        ],
        [
         45,
         "Commercial at Montgomery",
         37.794231,
         -122.402923,
         15,
         "San Francisco",
         "2013-08-19",
         "Washington at Kearney",
         "Davis at Jackson",
         "Clay at Battery",
         "Embarcadero at Vallejo",
         3
        ],
        [
         46,
         "Washington at Kearney",
         37.795425,
         -122.404767,
         15,
         "San Francisco",
         "2013-08-19",
         "Post at Kearney",
         "Commercial at Montgomery",
         "Clay at Battery",
         "Embarcadero at Vallejo",
         4
        ],
        [
         47,
         "Post at Kearney",
         37.788975,
         -122.403452,
         19,
         "San Francisco",
         "2013-08-19",
         "Embarcadero at Vallejo",
         "Washington at Kearney",
         "Clay at Battery",
         "Embarcadero at Vallejo",
         5
        ],
        [
         48,
         "Embarcadero at Vallejo",
         37.799953,
         -122.398525,
         15,
         "San Francisco",
         "2013-08-19",
         "Spear at Folsom",
         "Post at Kearney",
         "Clay at Battery",
         "Embarcadero at Vallejo",
         6
        ],
        [
         49,
         "Spear at Folsom",
         37.790302,
         -122.390637,
         19,
         "San Francisco",
         "2013-08-20",
         "Harry Bridges Plaza (Ferry Building)",
         "Embarcadero at Vallejo",
         "Clay at Battery",
         "Beale at Market",
         7
        ],
        [
         50,
         "Harry Bridges Plaza (Ferry Building)",
         37.795392,
         -122.394203,
         23,
         "San Francisco",
         "2013-08-20",
         "Embarcadero at Folsom",
         "Spear at Folsom",
         "Clay at Battery",
         "Beale at Market",
         8
        ],
        [
         51,
         "Embarcadero at Folsom",
         37.791464,
         -122.391034,
         19,
         "San Francisco",
         "2013-08-20",
         "Embarcadero at Bryant",
         "Harry Bridges Plaza (Ferry Building)",
         "Clay at Battery",
         "Beale at Market",
         9
        ],
        [
         54,
         "Embarcadero at Bryant",
         37.787152,
         -122.388013,
         15,
         "San Francisco",
         "2013-08-20",
         "Temporary Transbay Terminal (Howard at Beale)",
         "Embarcadero at Folsom",
         "Clay at Battery",
         "Beale at Market",
         10
        ],
        [
         55,
         "Temporary Transbay Terminal (Howard at Beale)",
         37.789756,
         -122.394643,
         23,
         "San Francisco",
         "2013-08-20",
         "Beale at Market",
         "Embarcadero at Bryant",
         "Clay at Battery",
         "Beale at Market",
         11
        ],
        [
         56,
         "Beale at Market",
         37.792251,
         -122.397086,
         19,
         "San Francisco",
         "2013-08-20",
         "5th at Howard",
         "Temporary Transbay Terminal (Howard at Beale)",
         "Clay at Battery",
         "Beale at Market",
         12
        ],
        [
         57,
         "5th at Howard",
         37.781752,
         -122.405127,
         15,
         "San Francisco",
         "2013-08-21",
         "San Francisco City Hall",
         "Beale at Market",
         "Clay at Battery",
         "Grant Avenue at Columbus Avenue",
         13
        ],
        [
         58,
         "San Francisco City Hall",
         37.77865,
         -122.418235,
         19,
         "San Francisco",
         "2013-08-21",
         "Golden Gate at Polk",
         "5th at Howard",
         "Clay at Battery",
         "Grant Avenue at Columbus Avenue",
         14
        ],
        [
         59,
         "Golden Gate at Polk",
         37.781332,
         -122.418603,
         23,
         "San Francisco",
         "2013-08-21",
         "Embarcadero at Sansome",
         "San Francisco City Hall",
         "Clay at Battery",
         "Grant Avenue at Columbus Avenue",
         15
        ],
        [
         60,
         "Embarcadero at Sansome",
         37.80477,
         -122.403234,
         15,
         "San Francisco",
         "2013-08-21",
         "Grant Avenue at Columbus Avenue",
         "Golden Gate at Polk",
         "Clay at Battery",
         "Grant Avenue at Columbus Avenue",
         16
        ],
        [
         73,
         "Grant Avenue at Columbus Avenue",
         37.798522,
         -122.407245,
         15,
         "San Francisco",
         "2013-08-21",
         "2nd at Townsend",
         "Embarcadero at Sansome",
         "Clay at Battery",
         "Grant Avenue at Columbus Avenue",
         17
        ],
        [
         61,
         "2nd at Townsend",
         37.780526,
         -122.390288,
         27,
         "San Francisco",
         "2013-08-22",
         "2nd at Folsom",
         "Grant Avenue at Columbus Avenue",
         "Clay at Battery",
         "Townsend at 7th",
         18
        ],
        [
         62,
         "2nd at Folsom",
         37.785299,
         -122.396236,
         19,
         "San Francisco",
         "2013-08-22",
         "Howard at 2nd",
         "2nd at Townsend",
         "Clay at Battery",
         "Townsend at 7th",
         19
        ],
        [
         63,
         "Howard at 2nd",
         37.786978,
         -122.398108,
         19,
         "San Francisco",
         "2013-08-22",
         "2nd at South Park",
         "2nd at Folsom",
         "Clay at Battery",
         "Townsend at 7th",
         20
        ],
        [
         64,
         "2nd at South Park",
         37.782259,
         -122.392738,
         15,
         "San Francisco",
         "2013-08-22",
         "Townsend at 7th",
         "Howard at 2nd",
         "Clay at Battery",
         "Townsend at 7th",
         21
        ],
        [
         65,
         "Townsend at 7th",
         37.771058,
         -122.402717,
         15,
         "San Francisco",
         "2013-08-22",
         "South Van Ness at Market",
         "2nd at South Park",
         "Clay at Battery",
         "Townsend at 7th",
         22
        ],
        [
         66,
         "South Van Ness at Market",
         37.774814,
         -122.418954,
         19,
         "San Francisco",
         "2013-08-23",
         "Market at 10th",
         "Townsend at 7th",
         "Clay at Battery",
         "Civic Center BART (7th at Market)",
         23
        ],
        [
         67,
         "Market at 10th",
         37.776619,
         -122.417385,
         27,
         "San Francisco",
         "2013-08-23",
         "Yerba Buena Center of the Arts (3rd @ Howard)",
         "South Van Ness at Market",
         "Clay at Battery",
         "Civic Center BART (7th at Market)",
         24
        ],
        [
         68,
         "Yerba Buena Center of the Arts (3rd @ Howard)",
         37.784878,
         -122.401014,
         19,
         "San Francisco",
         "2013-08-23",
         "San Francisco Caltrain 2 (330 Townsend)",
         "Market at 10th",
         "Clay at Battery",
         "Civic Center BART (7th at Market)",
         25
        ],
        [
         69,
         "San Francisco Caltrain 2 (330 Townsend)",
         37.7766,
         -122.39547,
         23,
         "San Francisco",
         "2013-08-23",
         "San Francisco Caltrain (Townsend at 4th)",
         "Yerba Buena Center of the Arts (3rd @ Howard)",
         "Clay at Battery",
         "Civic Center BART (7th at Market)",
         26
        ],
        [
         70,
         "San Francisco Caltrain (Townsend at 4th)",
         37.776617,
         -122.39526,
         19,
         "San Francisco",
         "2013-08-23",
         "Powell at Post (Union Square)",
         "San Francisco Caltrain 2 (330 Townsend)",
         "Clay at Battery",
         "Civic Center BART (7th at Market)",
         27
        ],
        [
         71,
         "Powell at Post (Union Square)",
         37.788446,
         -122.408499,
         19,
         "San Francisco",
         "2013-08-23",
         "Civic Center BART (7th at Market)",
         "San Francisco Caltrain (Townsend at 4th)",
         "Clay at Battery",
         "Civic Center BART (7th at Market)",
         28
        ],
        [
         72,
         "Civic Center BART (7th at Market)",
         37.781039,
         -122.411748,
         23,
         "San Francisco",
         "2013-08-23",
         "Powell Street BART",
         "Powell at Post (Union Square)",
         "Clay at Battery",
         "Civic Center BART (7th at Market)",
         29
        ],
        [
         39,
         "Powell Street BART",
         37.783871,
         -122.408433,
         19,
         "San Francisco",
         "2013-08-25",
         "Steuart at Market",
         "Civic Center BART (7th at Market)",
         "Clay at Battery",
         "Market at Sansome",
         30
        ],
        [
         74,
         "Steuart at Market",
         37.794139,
         -122.394434,
         23,
         "San Francisco",
         "2013-08-25",
         "Mechanics Plaza (Market at Battery)",
         "Powell Street BART",
         "Clay at Battery",
         "Market at Sansome",
         31
        ],
        [
         75,
         "Mechanics Plaza (Market at Battery)",
         37.7913,
         -122.399051,
         19,
         "San Francisco",
         "2013-08-25",
         "Market at 4th",
         "Steuart at Market",
         "Clay at Battery",
         "Market at Sansome",
         32
        ],
        [
         76,
         "Market at 4th",
         37.786305,
         -122.404966,
         19,
         "San Francisco",
         "2013-08-25",
         "Market at Sansome",
         "Mechanics Plaza (Market at Battery)",
         "Clay at Battery",
         "Market at Sansome",
         33
        ],
        [
         77,
         "Market at Sansome",
         37.789625,
         -122.400811,
         27,
         "San Francisco",
         "2013-08-25",
         "Broadway St at Battery St",
         "Market at 4th",
         "Clay at Battery",
         "Market at Sansome",
         34
        ],
        [
         82,
         "Broadway St at Battery St",
         37.798541,
         -122.400862,
         15,
         "San Francisco",
         "2014-01-22",
         null,
         "Market at Sansome",
         "Clay at Battery",
         "Broadway St at Battery St",
         35
        ],
        [
         3,
         "San Jose Civic Center",
         37.330698,
         -121.888979,
         15,
         "San Jose",
         "2013-08-05",
         "Adobe on Almaden",
         null,
         "San Jose Civic Center",
         "Arena Green / SAP Center",
         1
        ],
        [
         5,
         "Adobe on Almaden",
         37.331415,
         -121.8932,
         19,
         "San Jose",
         "2013-08-05",
         "San Salvador at 1st",
         "San Jose Civic Center",
         "San Jose Civic Center",
         "Arena Green / SAP Center",
         2
        ],
        [
         8,
         "San Salvador at 1st",
         37.330165,
         -121.885831,
         15,
         "San Jose",
         "2013-08-05",
         "Japantown",
         "Adobe on Almaden",
         "San Jose Civic Center",
         "Arena Green / SAP Center",
         3
        ],
        [
         9,
         "Japantown",
         37.348742,
         -121.894715,
         15,
         "San Jose",
         "2013-08-05",
         "Arena Green / SAP Center",
         "San Salvador at 1st",
         "San Jose Civic Center",
         "Arena Green / SAP Center",
         4
        ],
        [
         14,
         "Arena Green / SAP Center",
         37.332692,
         -121.900084,
         19,
         "San Jose",
         "2013-08-05",
         "San Jose Diridon Caltrain Station",
         "Japantown",
         "San Jose Civic Center",
         "Arena Green / SAP Center",
         5
        ],
        [
         2,
         "San Jose Diridon Caltrain Station",
         37.329732,
         -121.901782,
         27,
         "San Jose",
         "2013-08-06",
         "Santa Clara at Almaden",
         "Arena Green / SAP Center",
         "San Jose Civic Center",
         "St James Park",
         6
        ],
        [
         4,
         "Santa Clara at Almaden",
         37.333988,
         -121.894902,
         11,
         "San Jose",
         "2013-08-06",
         "San Jose City Hall",
         "San Jose Diridon Caltrain Station",
         "San Jose Civic Center",
         "St James Park",
         7
        ],
        [
         10,
         "San Jose City Hall",
         37.337391,
         -121.886995,
         15,
         "San Jose",
         "2013-08-06",
         "MLK Library",
         "Santa Clara at Almaden",
         "San Jose Civic Center",
         "St James Park",
         8
        ],
        [
         11,
         "MLK Library",
         37.335885,
         -121.88566,
         19,
         "San Jose",
         "2013-08-06",
         "St James Park",
         "San Jose City Hall",
         "San Jose Civic Center",
         "St James Park",
         9
        ],
        [
         13,
         "St James Park",
         37.339301,
         -121.889937,
         15,
         "San Jose",
         "2013-08-06",
         "San Pedro Square",
         "MLK Library",
         "San Jose Civic Center",
         "St James Park",
         10
        ],
        [
         6,
         "San Pedro Square",
         37.336721,
         -121.894074,
         15,
         "San Jose",
         "2013-08-07",
         "Paseo de San Antonio",
         "St James Park",
         "San Jose Civic Center",
         "SJSU - San Salvador at 9th",
         11
        ],
        [
         7,
         "Paseo de San Antonio",
         37.333798,
         -121.886943,
         15,
         "San Jose",
         "2013-08-07",
         "SJSU 4th at San Carlos",
         "San Pedro Square",
         "San Jose Civic Center",
         "SJSU - San Salvador at 9th",
         12
        ],
        [
         12,
         "SJSU 4th at San Carlos",
         37.332808,
         -121.883891,
         19,
         "San Jose",
         "2013-08-07",
         "SJSU - San Salvador at 9th",
         "Paseo de San Antonio",
         "San Jose Civic Center",
         "SJSU - San Salvador at 9th",
         13
        ],
        [
         16,
         "SJSU - San Salvador at 9th",
         37.333955,
         -121.877349,
         15,
         "San Jose",
         "2013-08-07",
         "Santa Clara County Civic Center",
         "SJSU 4th at San Carlos",
         "San Jose Civic Center",
         "SJSU - San Salvador at 9th",
         14
        ],
        [
         80,
         "Santa Clara County Civic Center",
         37.352601,
         -121.905733,
         15,
         "San Jose",
         "2013-12-31",
         "Ryland Park",
         "SJSU - San Salvador at 9th",
         "San Jose Civic Center",
         "Santa Clara County Civic Center",
         15
        ],
        [
         84,
         "Ryland Park",
         37.342725,
         -121.895617,
         15,
         "San Jose",
         "2014-04-09",
         null,
         "Santa Clara County Civic Center",
         "San Jose Civic Center",
         "Ryland Park",
         16
        ]
       ],
       "datasetInfos": [],
       "dbfsResultPath": null,
       "isJsonSchema": true,
       "metadata": {},
       "overflow": false,
       "plotOptions": {
        "customPlotOptions": {},
        "displayType": "table",
        "pivotAggregation": null,
        "pivotColumns": null,
        "xColumns": null,
        "yColumns": null
       },
       "removedWidgets": [],
       "schema": [
        {
         "metadata": "{}",
         "name": "station_id",
         "type": "\"integer\""
        },
        {
         "metadata": "{}",
         "name": "name",
         "type": "\"string\""
        },
        {
         "metadata": "{}",
         "name": "lat",
         "type": "\"double\""
        },
        {
         "metadata": "{}",
         "name": "long",
         "type": "\"double\""
        },
        {
         "metadata": "{}",
         "name": "dockcount",
         "type": "\"integer\""
        },
        {
         "metadata": "{}",
         "name": "landmark",
         "type": "\"string\""
        },
        {
         "metadata": "{\"__detected_date_formats\":\"M/d/yyyy\"}",
         "name": "installation",
         "type": "\"date\""
        },
        {
         "metadata": "{}",
         "name": "next_station",
         "type": "\"string\""
        },
        {
         "metadata": "{}",
         "name": "prev_station",
         "type": "\"string\""
        },
        {
         "metadata": "{}",
         "name": "first_station",
         "type": "\"string\""
        },
        {
         "metadata": "{}",
         "name": "last_station",
         "type": "\"string\""
        },
        {
         "metadata": "{}",
         "name": "row_num",
         "type": "\"integer\""
        }
       ],
       "type": "table"
      }
     },
     "output_type": "display_data"
    }
   ],
   "source": [
    "df = station_data.withColumn(\"next_station\", lead(\"name\", 1).over(windowSpec)).withColumn(\"prev_station\", lag(\"name\", 1).over(windowSpec)).withColumn(\"first_station\", first(\"name\").over(windowSpec)).withColumn(\"last_station\", last(\"name\").over(windowSpec)).withColumn(\"row_num\", row_number().over(windowSpec))\n",
    "\n",
    "display(df)"
   ]
  }
 ],
 "metadata": {
  "application/vnd.databricks.v1+notebook": {
   "computePreferences": null,
   "dashboards": [],
   "environmentMetadata": {
    "base_environment": "",
    "environment_version": "1"
   },
   "inputWidgetPreferences": null,
   "language": "python",
   "notebookMetadata": {
    "pythonIndentUnit": 4
   },
   "notebookName": "Ćwiczenia 4 zad 3",
   "widgets": {}
  }
 },
 "nbformat": 4,
 "nbformat_minor": 0
}